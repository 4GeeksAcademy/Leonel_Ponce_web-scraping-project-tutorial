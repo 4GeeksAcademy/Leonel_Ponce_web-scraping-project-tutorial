{
    "cells": [
        {
            "cell_type": "markdown",
            "metadata": {},
            "source": [
                "# Explore here\n",
                "\n",
                "It's recommended to use this notebook for exploration purposes."
            ]
        },
        {
            "cell_type": "code",
            "execution_count": 14,
            "metadata": {},
            "outputs": [],
            "source": [
                "import os\n",
                "from bs4 import BeautifulSoup\n",
                "import requests\n",
                "import pandas as pd\n",
                "import sqlite3\n",
                "import matplotlib.pyplot as plt\n",
                "import seaborn as sns\n",
                "import io\n"
            ]
        },
        {
            "cell_type": "code",
            "execution_count": 15,
            "metadata": {},
            "outputs": [
                {
                    "name": "stdout",
                    "output_type": "stream",
                    "text": [
                        "Descarga realizada\n"
                    ]
                }
            ],
            "source": [
                "pagina = \"https://en.wikipedia.org/wiki/List_of_most-streamed_songs_on_Spotify\"\n",
                "headers = {'User-Agent': 'CoolBot/0.0 (https://example.org/coolbot/; coolbot@example.org)'}\n",
                "\n",
                "response = requests.get(pagina, headers=headers)\n",
                "\n",
                "if response.status_code == 200:\n",
                "    with open(\"spotify.html\", \"wb\") as dataset:\n",
                "        dataset.write(response.content)\n",
                "    print(\"Descarga realizada\")"
            ]
        },
        {
            "cell_type": "code",
            "execution_count": 16,
            "metadata": {},
            "outputs": [
                {
                    "name": "stdout",
                    "output_type": "stream",
                    "text": [
                        "Se han encontrado 27 tablas\n",
                        "Los encabezados en la primera tabla son: ['Rank', 'Song', 'Artist(s)', 'Streams(billions)', 'Release date', 'Ref.', '\"Blinding Lights\"', '\"Shape of You\"', '\"Starboy\"', '\"Someone You Loved\"', '\"Sweater Weather\"', '\"As It Was\"', '\"Sunflower\"', '\"One Dance\"', '\"Stay\"', '\"Perfect\"', '\"Believer\"', '\"Heat Waves\"', '\"Lovely\"', '\"Closer\"', '\"Say You Won\\'t Let Go\"', '\"Something Just Like This\"', '\"I Wanna Be Yours\"', '\"Dance Monkey\"', '\"Yellow\"', '\"The Night We Met\"', '\"Riptide\"', '\"Rockstar\"', '\"Another Love\"', '\"Take Me to Church\"', '\"Counting Stars\"', '\"Señorita\"', '\"Photograph\"', '\"Watermelon Sugar\"', '\"Cruel Summer\"', '\"Birds of a Feather\"', '\"Can\\'t Hold Us\"', '\"Don\\'t Start Now\"', '\"Die with a Smile\"', '\"Viva La Vida\"', '\"Lucid Dreams\"', '\"Die for You\"', '\"Circles\"', '\"Goosebumps\"', '\"Just the Way You Are\"', '\"Every Breath You Take\"', '\"Bohemian Rhapsody\"', '\"Love Yourself\"', '\"Thinking Out Loud\"', '\"Shallow\"', '\"God\\'s Plan\"', '\"Wake Me Up\"', '\"All of Me\"', '\"Thunder\"', '\"Locked out of Heaven\"', '\"When I Was Your Man\"', '\"Demons\"', '\"Mr. Brightside\"', '\"In the End\"', '\"Bad Guy\"', '\"The Hills\"', '\"That\\'s What I Like\"', '\"Without Me\"', '\"Stressed Out\"', '\"Iris\"', '\"Humble\"', '\"Do I Wanna Know?\"', '\"No Role Modelz\"', '\"Lose Yourself\"', '\"Flowers\"', '\"Let Me Love You\"', '\"Let Her Go\"', '\"Unforgettable\"', '\"All the Stars\"', '\"Treat You Better\"', '\"7 Rings\"', '\"Drivers License\"', '\"See You Again\"', '\"Kill Bill\"', '\"Don\\'t Stop Believin\\'\"', '\"Smells Like Teen Spirit\"', '\"Sorry\"', '\"Seven\"', '\"There\\'s Nothing Holdin\\' Me Back\"', '\"The Scientist\"', '\"Espresso\"', '\"One Kiss\"', '\"Wonderwall\"', '\"Good 4 U\"', '\"Cold Heart (Pnau remix)\"', '\"Beautiful Things\"', '\"Take On Me\"', '\"Save Your Tears\"', '\"Happier\"', '\"Sicko Mode\"', '\"505\"', '\"Lean On\"', '\"Uptown Funk\"', '\"Don\\'t Stop Me Now\"', '\"Numb\"', '\"Sad!\"', '\"Clean Baby Sleep White Noise (Loopable)\"', '\"Sweet Child O\\' Mine\"', '\"Levitating\"', '\"Creep\"', '\"Jocelyn Flores\"', 'As of 4 October 2025']\n"
                    ]
                }
            ],
            "source": [
                "soup = BeautifulSoup(response.content, 'html.parser')\n",
                "tables = len(soup.find_all(\"table\")) \n",
                "print(f\"Se han encontrado {tables} tablas\")\n",
                "\n",
                "tabla = soup.find(\"table\") \n",
                "\n",
                "# Extraer los encabezados de esta tabla\n",
                "headers = []\n",
                "for th in tabla.find_all(\"th\"):\n",
                "    headers.append(th.get_text(strip=True))\n",
                "    \n",
                "print(f'Los encabezados en la primera tabla son: {headers}')"
            ]
        }
    ],
    "metadata": {
        "kernelspec": {
            "display_name": "Python 3",
            "language": "python",
            "name": "python3"
        },
        "language_info": {
            "codemirror_mode": {
                "name": "ipython",
                "version": 3
            },
            "file_extension": ".py",
            "mimetype": "text/x-python",
            "name": "python",
            "nbconvert_exporter": "python",
            "pygments_lexer": "ipython3",
            "version": "3.11.4"
        },
        "orig_nbformat": 4
    },
    "nbformat": 4,
    "nbformat_minor": 2
}
